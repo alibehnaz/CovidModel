{
  "nbformat": 4,
  "nbformat_minor": 0,
  "metadata": {
    "colab": {
      "name": "covid_assignment.ipynb",
      "provenance": [],
      "collapsed_sections": [],
      "authorship_tag": "ABX9TyP7FKh0L56okTw4ycy/Rtcu",
      "include_colab_link": true
    },
    "kernelspec": {
      "name": "python3",
      "display_name": "Python 3"
    },
    "language_info": {
      "name": "python"
    }
  },
  "cells": [
    {
      "cell_type": "markdown",
      "metadata": {
        "id": "view-in-github",
        "colab_type": "text"
      },
      "source": [
        "<a href=\"https://colab.research.google.com/github/alibehnaz/CovidModel/blob/main/covid_assignment.ipynb\" target=\"_parent\"><img src=\"https://colab.research.google.com/assets/colab-badge.svg\" alt=\"Open In Colab\"/></a>"
      ]
    },
    {
      "cell_type": "markdown",
      "metadata": {
        "id": "0ZBGeUHosBqL"
      },
      "source": [
        "**This code uses data from early 2020 to August 2021 to model the behaviour of different Covid variants. Using this model, we assess how much different strategies can be effective to control the spread of the virus and ultimtely move towards a Covid-free world**\n",
        "\n",
        "**Two Models have been implemented in this code:**\n",
        "\n",
        "*   SIR Model for explaining how an infectious disease disseminates in the community\n",
        "*   Preditive model to forecast reproduction rate given various scenarios"
      ]
    },
    {
      "cell_type": "code",
      "metadata": {
        "id": "OmMGnp4kZA-E"
      },
      "source": [
        "# import libraries\n",
        "from scipy.integrate import odeint\n",
        "import numpy as np\n",
        "import pandas as pd"
      ],
      "execution_count": 3,
      "outputs": []
    },
    {
      "cell_type": "code",
      "metadata": {
        "id": "pBJYqasqZHVS"
      },
      "source": [
        "#set formatting for numbers in table\n",
        "pd.set_option('float_format', '{:f}'.format)\n",
        "pd.options.display.float_format = \"{:.1f}\".format"
      ],
      "execution_count": 4,
      "outputs": []
    },
    {
      "cell_type": "markdown",
      "metadata": {
        "id": "GvJXkCokt0zG"
      },
      "source": [
        "# **SIR Model**\n",
        "The SIR model is one of the compartmental models, and many models are derivatives of this basic form. The model consists of three compartments:\n",
        "\n",
        "1.  S(t) is used to represent the individuals not yet infected with the disease at time t, or those susceptible to the disease of the population.\n",
        "2.  I(t) denotes the individuals of the population who have been infected with the disease and are capable of spreading the disease to those in the susceptible category.\n",
        "3.  R(t) is the compartment used for the individuals of the population who have been infected and then removed from the disease, either due to immunization or due to death. Those in this category are not able to be infected again or to transmit the infection to others.\n",
        "\n",
        "This model is reasonably predictive for infectious diseases that are transmitted from human to human, and where recovery confers lasting resistance, such as measles, mumps and rubella.\n",
        "\n",
        "These variables (S, I, and R) represent the number of people in each compartment at a particular time. To represent that the number of susceptible, infectious and removed individuals may vary over time (even if the total population size remains constant), we make the precise numbers a function of t (time): S(t), I(t) and R(t). For a specific disease in a specific population, these functions may be worked out in order to predict possible outbreaks and bring them under control.\n",
        "\n",
        "\n",
        "\n",
        "\n",
        "\n",
        "\n",
        "\n"
      ]
    },
    {
      "cell_type": "code",
      "metadata": {
        "id": "Yf6PdYDTZKw0"
      },
      "source": [
        "# SIR = Susceptible, Infected, Recovered \n",
        "def SIR(rhat,I0,N):\n",
        "    def deriv(y, t, N, beta, gamma):\n",
        "        S, I, R = y\n",
        "        dSdt = -beta * S * I / N\n",
        "        dIdt = beta * S * I / N - gamma * I\n",
        "        dRdt = gamma * I\n",
        "        return dSdt, dIdt, dRdt\n",
        "    \n",
        "    #N =  population\n",
        "    beta = rhat # infected person infects 1 other person per day\n",
        "    D = 5.0 # infections lasts 7 days\n",
        "    # reproduction number R₀, the total number of people an infected person infects. \n",
        "    gamma = 1.0 / D\n",
        "    S0, I0, R0 = N-1, I0 , 0  # initial conditions: one infected, rest susceptible\n",
        "    \n",
        "    t = np.linspace(0, 29, 30) # Grid of time points (in days)\n",
        "    y0 = S0, I0, R0 # Initial conditions vector\n",
        "\n",
        "    # Integrate the SIR equations over the time grid, t.\n",
        "    ret = odeint(deriv, y0, t, args=(N, beta, gamma))\n",
        "    S, I, R = ret.T\n",
        "    return (I)"
      ],
      "execution_count": 5,
      "outputs": []
    },
    {
      "cell_type": "code",
      "metadata": {
        "id": "4Py3yAbpZTz1"
      },
      "source": [
        "# function to measure euclidean distance of two list\n",
        "def distance(x1,x2):\n",
        "    y = np.subtract(x1, x2)\n",
        "    return np.sum(y**2)  \n",
        "\n",
        "# function to calculate rhat (reproduction rate) for each time series\n",
        "def rhat_calculate(x1):\n",
        "    rhat0=1\n",
        "    rhat = 1\n",
        "    diff=1\n",
        "    break_var=10\n",
        "    while break_var > 0:\n",
        "        x2=SIR(rhat,x1[0],1000000)\n",
        "        diff = distance(x1,x2)\n",
        "        rhat0=rhat0/2\n",
        "        rhat = rhat + np.sign(sum(np.subtract(x1, x2)))*(rhat0)\n",
        "        x2=SIR(rhat,x1[0],1000000)\n",
        "        break_var = break_var -1\n",
        "    return rhat"
      ],
      "execution_count": 45,
      "outputs": []
    },
    {
      "cell_type": "markdown",
      "metadata": {
        "id": "o4BrATgEzY-j"
      },
      "source": [
        "Input data is collected using the time series data available since the begining of the pandemic. Time-series data are split into 30-day periods. Each 30-day sample capture covid cases in a country/city where a specific strategy has been in place. Using SIR model, reproduction rate for each 30-day sample is calculated. \n",
        "\n",
        "\n",
        "Data Link: https://github.com/owid/covid-19-data\n",
        "Data for Australia are downloaded separately from state data repositories"
      ]
    },
    {
      "cell_type": "code",
      "metadata": {
        "id": "1OBHNTzJoSfH"
      },
      "source": [
        "# load the dataset\n",
        "url = 'https://raw.githubusercontent.com/alibehnaz/CovidModel/main/CovidTimeSeries.csv'\n",
        "data = pd.read_csv(url)"
      ],
      "execution_count": 35,
      "outputs": []
    },
    {
      "cell_type": "code",
      "metadata": {
        "colab": {
          "base_uri": "https://localhost:8080/",
          "height": 419
        },
        "id": "VNdA2R6wcDwG",
        "outputId": "3c5eafc1-eeb4-404b-bb5a-7b3b539b9c4a"
      },
      "source": [
        "data"
      ],
      "execution_count": 36,
      "outputs": [
        {
          "output_type": "execute_result",
          "data": {
            "text/html": [
              "<div>\n",
              "<style scoped>\n",
              "    .dataframe tbody tr th:only-of-type {\n",
              "        vertical-align: middle;\n",
              "    }\n",
              "\n",
              "    .dataframe tbody tr th {\n",
              "        vertical-align: top;\n",
              "    }\n",
              "\n",
              "    .dataframe thead th {\n",
              "        text-align: right;\n",
              "    }\n",
              "</style>\n",
              "<table border=\"1\" class=\"dataframe\">\n",
              "  <thead>\n",
              "    <tr style=\"text-align: right;\">\n",
              "      <th></th>\n",
              "      <th>Day</th>\n",
              "      <th>cases</th>\n",
              "      <th>Sample</th>\n",
              "      <th>Cooutries/States</th>\n",
              "      <th>Mask Mandate/Hygiene</th>\n",
              "      <th>Variant</th>\n",
              "      <th>Vax rate</th>\n",
              "      <th>Lockdown</th>\n",
              "      <th>Period</th>\n",
              "    </tr>\n",
              "  </thead>\n",
              "  <tbody>\n",
              "    <tr>\n",
              "      <th>0</th>\n",
              "      <td>1</td>\n",
              "      <td>30</td>\n",
              "      <td>1</td>\n",
              "      <td>Sydney</td>\n",
              "      <td>2</td>\n",
              "      <td>3</td>\n",
              "      <td>20%</td>\n",
              "      <td>3</td>\n",
              "      <td>Aug-21</td>\n",
              "    </tr>\n",
              "    <tr>\n",
              "      <th>1</th>\n",
              "      <td>2</td>\n",
              "      <td>36</td>\n",
              "      <td>1</td>\n",
              "      <td>Sydney</td>\n",
              "      <td>2</td>\n",
              "      <td>3</td>\n",
              "      <td>20%</td>\n",
              "      <td>3</td>\n",
              "      <td>Aug-21</td>\n",
              "    </tr>\n",
              "    <tr>\n",
              "      <th>2</th>\n",
              "      <td>3</td>\n",
              "      <td>22</td>\n",
              "      <td>1</td>\n",
              "      <td>Sydney</td>\n",
              "      <td>2</td>\n",
              "      <td>3</td>\n",
              "      <td>20%</td>\n",
              "      <td>3</td>\n",
              "      <td>Aug-21</td>\n",
              "    </tr>\n",
              "    <tr>\n",
              "      <th>3</th>\n",
              "      <td>4</td>\n",
              "      <td>31</td>\n",
              "      <td>1</td>\n",
              "      <td>Sydney</td>\n",
              "      <td>2</td>\n",
              "      <td>3</td>\n",
              "      <td>20%</td>\n",
              "      <td>3</td>\n",
              "      <td>Aug-21</td>\n",
              "    </tr>\n",
              "    <tr>\n",
              "      <th>4</th>\n",
              "      <td>5</td>\n",
              "      <td>16</td>\n",
              "      <td>1</td>\n",
              "      <td>Sydney</td>\n",
              "      <td>2</td>\n",
              "      <td>3</td>\n",
              "      <td>20%</td>\n",
              "      <td>3</td>\n",
              "      <td>Aug-21</td>\n",
              "    </tr>\n",
              "    <tr>\n",
              "      <th>...</th>\n",
              "      <td>...</td>\n",
              "      <td>...</td>\n",
              "      <td>...</td>\n",
              "      <td>...</td>\n",
              "      <td>...</td>\n",
              "      <td>...</td>\n",
              "      <td>...</td>\n",
              "      <td>...</td>\n",
              "      <td>...</td>\n",
              "    </tr>\n",
              "    <tr>\n",
              "      <th>625</th>\n",
              "      <td>26</td>\n",
              "      <td>1074</td>\n",
              "      <td>21</td>\n",
              "      <td>CA</td>\n",
              "      <td>1</td>\n",
              "      <td>3</td>\n",
              "      <td>70%</td>\n",
              "      <td>2</td>\n",
              "      <td>Jul-21</td>\n",
              "    </tr>\n",
              "    <tr>\n",
              "      <th>626</th>\n",
              "      <td>27</td>\n",
              "      <td>537</td>\n",
              "      <td>21</td>\n",
              "      <td>CA</td>\n",
              "      <td>1</td>\n",
              "      <td>3</td>\n",
              "      <td>70%</td>\n",
              "      <td>2</td>\n",
              "      <td>Jul-21</td>\n",
              "    </tr>\n",
              "    <tr>\n",
              "      <th>627</th>\n",
              "      <td>28</td>\n",
              "      <td>796</td>\n",
              "      <td>21</td>\n",
              "      <td>CA</td>\n",
              "      <td>1</td>\n",
              "      <td>3</td>\n",
              "      <td>70%</td>\n",
              "      <td>2</td>\n",
              "      <td>Jul-21</td>\n",
              "    </tr>\n",
              "    <tr>\n",
              "      <th>628</th>\n",
              "      <td>29</td>\n",
              "      <td>912</td>\n",
              "      <td>21</td>\n",
              "      <td>CA</td>\n",
              "      <td>1</td>\n",
              "      <td>3</td>\n",
              "      <td>70%</td>\n",
              "      <td>2</td>\n",
              "      <td>Jul-21</td>\n",
              "    </tr>\n",
              "    <tr>\n",
              "      <th>629</th>\n",
              "      <td>30</td>\n",
              "      <td>910</td>\n",
              "      <td>21</td>\n",
              "      <td>CA</td>\n",
              "      <td>1</td>\n",
              "      <td>3</td>\n",
              "      <td>70%</td>\n",
              "      <td>2</td>\n",
              "      <td>Jul-21</td>\n",
              "    </tr>\n",
              "  </tbody>\n",
              "</table>\n",
              "<p>630 rows × 9 columns</p>\n",
              "</div>"
            ],
            "text/plain": [
              "     Day  cases  Sample Cooutries/States  ...  Variant  Vax rate Lockdown  Period\n",
              "0      1     30       1           Sydney  ...        3       20%        3  Aug-21\n",
              "1      2     36       1           Sydney  ...        3       20%        3  Aug-21\n",
              "2      3     22       1           Sydney  ...        3       20%        3  Aug-21\n",
              "3      4     31       1           Sydney  ...        3       20%        3  Aug-21\n",
              "4      5     16       1           Sydney  ...        3       20%        3  Aug-21\n",
              "..   ...    ...     ...              ...  ...      ...       ...      ...     ...\n",
              "625   26   1074      21               CA  ...        3       70%        2  Jul-21\n",
              "626   27    537      21               CA  ...        3       70%        2  Jul-21\n",
              "627   28    796      21               CA  ...        3       70%        2  Jul-21\n",
              "628   29    912      21               CA  ...        3       70%        2  Jul-21\n",
              "629   30    910      21               CA  ...        3       70%        2  Jul-21\n",
              "\n",
              "[630 rows x 9 columns]"
            ]
          },
          "metadata": {
            "tags": []
          },
          "execution_count": 36
        }
      ]
    },
    {
      "cell_type": "code",
      "metadata": {
        "colab": {
          "base_uri": "https://localhost:8080/"
        },
        "id": "lrW4uoIRo3lY",
        "outputId": "60d6db87-5486-41f6-94b1-46125aae6f64"
      },
      "source": [
        "#sample_size = data[\"Sample\"].max()\n",
        "n= data[\"Sample\"].max() + 1\n",
        "for i in range(1,n):\n",
        "    data_temp = data.loc[data[\"Sample\"]==i]\n",
        "    x1 = data_temp[\"cases\"].tolist()\n",
        "    print(rhat_calculate(x1))"
      ],
      "execution_count": 37,
      "outputs": [
        {
          "output_type": "stream",
          "text": [
            "0.2724609375\n",
            "0.3037109375\n",
            "0.2822265625\n",
            "0.1103515625\n",
            "0.1064453125\n",
            "0.0283203125\n",
            "0.1220703125\n",
            "0.3017578125\n",
            "0.2236328125\n",
            "0.1455078125\n",
            "0.2724609375\n",
            "0.2666015625\n",
            "0.2568359375\n",
            "0.1494140625\n",
            "0.2548828125\n",
            "0.2197265625\n",
            "0.1982421875\n",
            "0.3134765625\n",
            "0.1884765625\n",
            "0.1669921875\n",
            "0.2705078125\n"
          ],
          "name": "stdout"
        }
      ]
    },
    {
      "cell_type": "markdown",
      "metadata": {
        "id": "ecZOBK3Jpabr"
      },
      "source": [
        "# **Predictive model to forecast reproduction rate**\n",
        "\n",
        "The model will predict reproduction rate given different scenarios.\n",
        "Independant variables are created manually by investigating for each country and period what strategy has been in action at the time. Independent varaiables are: \n",
        "* Restrictions (Masks, lockdowns, movement, travel, work)\n",
        "* Disease variant\n",
        "* Vax rate"
      ]
    },
    {
      "cell_type": "code",
      "metadata": {
        "id": "LMyu9RPXpBHC"
      },
      "source": [
        "# load the dataset\n",
        "url = 'https://raw.githubusercontent.com/alibehnaz/CovidModel/main/CovidReproduction.csv'\n",
        "data_pre  = pd.read_csv(url)"
      ],
      "execution_count": 38,
      "outputs": []
    },
    {
      "cell_type": "code",
      "metadata": {
        "id": "xo3-CNNCpsjl"
      },
      "source": [
        "X = data_pre[['Variant','Mask Mandate/Hygiene', 'Vax rate','Lockdown']]\n",
        "y = data_pre['R']"
      ],
      "execution_count": 39,
      "outputs": []
    },
    {
      "cell_type": "code",
      "metadata": {
        "colab": {
          "base_uri": "https://localhost:8080/"
        },
        "id": "XuGWfAB9pxti",
        "outputId": "9814827d-8ebe-4fc9-a47e-bde7331e9255"
      },
      "source": [
        "from sklearn import linear_model\n",
        "regr = linear_model.LinearRegression()\n",
        "regr.fit(X, y)"
      ],
      "execution_count": 40,
      "outputs": [
        {
          "output_type": "execute_result",
          "data": {
            "text/plain": [
              "LinearRegression(copy_X=True, fit_intercept=True, n_jobs=None, normalize=False)"
            ]
          },
          "metadata": {
            "tags": []
          },
          "execution_count": 40
        }
      ]
    },
    {
      "cell_type": "code",
      "metadata": {
        "colab": {
          "base_uri": "https://localhost:8080/"
        },
        "id": "B7KaAdXCp0LT",
        "outputId": "f2bfb1eb-6ede-4781-a7fe-84411d4d1811"
      },
      "source": [
        "print(\"Intercept: \", regr.intercept_)\n",
        "print(\"Coefficients:\", regr.coef_)"
      ],
      "execution_count": 41,
      "outputs": [
        {
          "output_type": "stream",
          "text": [
            "Intercept:  0.23424250748921563\n",
            "Coefficients: [ 0.01486879  0.04804634 -0.07932584 -0.05377755]\n"
          ],
          "name": "stdout"
        }
      ]
    },
    {
      "cell_type": "code",
      "metadata": {
        "id": "f8n_Yjqurrti"
      },
      "source": [
        "y_pred_regr= regr.predict(X)"
      ],
      "execution_count": 43,
      "outputs": []
    },
    {
      "cell_type": "code",
      "metadata": {
        "colab": {
          "base_uri": "https://localhost:8080/"
        },
        "id": "63Jmm76Rp2x0",
        "outputId": "6e197a5a-beaa-4ded-8f28-5d5636d0dd1f"
      },
      "source": [
        "from sklearn import metrics\n",
        "meanAbErr = metrics.mean_absolute_error(y, y_pred_regr)\n",
        "meanSqErr = metrics.mean_squared_error(y, y_pred_regr)\n",
        "rootMeanSqErr = np.sqrt(metrics.mean_squared_error(y, y_pred_regr))\n",
        "print('R squared: {:.2f}'.format(regr.score(X,y)*100))\n",
        "print('Mean Absolute Error:', meanAbErr)\n",
        "print('Mean Square Error:', meanSqErr)\n",
        "print('Root Mean Square Error:', rootMeanSqErr)"
      ],
      "execution_count": 44,
      "outputs": [
        {
          "output_type": "stream",
          "text": [
            "R squared: 14.24\n",
            "Mean Absolute Error: 0.05902284051319854\n",
            "Mean Square Error: 0.0050582110284012475\n",
            "Root Mean Square Error: 0.0711211011472773\n"
          ],
          "name": "stdout"
        }
      ]
    }
  ]
}